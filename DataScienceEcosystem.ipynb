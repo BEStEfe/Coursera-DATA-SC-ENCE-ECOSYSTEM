{
  "metadata": {
    "kernelspec": {
      "name": "python",
      "display_name": "Python (Pyodide)",
      "language": "python"
    },
    "language_info": {
      "codemirror_mode": {
        "name": "python",
        "version": 3
      },
      "file_extension": ".py",
      "mimetype": "text/x-python",
      "name": "python",
      "nbconvert_exporter": "python",
      "pygments_lexer": "ipython3",
      "version": "3.8"
    }
  },
  "nbformat_minor": 4,
  "nbformat": 4,
  "cells": [
    {
      "cell_type": "markdown",
      "source": "# DATA SCİENCE ECOSYSTEM",
      "metadata": {}
    },
    {
      "cell_type": "markdown",
      "source": "In this notebook, Data Science Ecosystem will be explained",
      "metadata": {}
    },
    {
      "cell_type": "markdown",
      "source": "### Data Science Languages:\n\n- Python\n- R\n- Julia\n- SQL\n- Scala",
      "metadata": {}
    },
    {
      "cell_type": "markdown",
      "source": "### Data Science Libraries:\n\n- NumPy\n- pandas\n- Matplotlib\n- Seaborn\n- scikit-learn\n- TensorFlow\n- PyTorch\n",
      "metadata": {}
    },
    {
      "cell_type": "markdown",
      "source": "### Data Science Tools:\n\n| Tool             | Description                           |\n|------------------|---------------------------------------|\n| Jupyter Notebook | Interactive computing environment     |\n| RStudio          | Integrated development environment    |\n| Python           | Programming language                  |\n| GitHub           | Version control and collaboration    |\n| GitLab           | DevOps platform                       |\n| TensorFlow       | Deep learning framework               |\n| scikit-learn     | Machine learning library              |\n| NumPy            | Numerical computing library           |\n| pandas           | Data manipulation library             |\n| Matplotlib       | Data visualization library           |\n",
      "metadata": {}
    },
    {
      "cell_type": "markdown",
      "source": "### Introduction to Arithmetic Expression Examples:\n\nIn this section, we will explore some examples of arithmetic expressions using Python code in Jupyter Notebook. We will cover basic arithmetic operations such as addition, subtraction, multiplication, and division, as well as more complex expressions involving variables and functions.\n",
      "metadata": {}
    },
    {
      "cell_type": "code",
      "source": "# Multiply and add numbers\na = 5\nb = 10\nc = a * b  # Multiply a and b\nd = a + b  # Add a and b\n\n# Print the results\nprint(\"Multiplication result:\", c)\nprint(\"Addition result:\", d)\n",
      "metadata": {
        "trusted": true
      },
      "outputs": [
        {
          "name": "stdout",
          "text": "Multiplication result: 50\nAddition result: 15\n",
          "output_type": "stream"
        }
      ],
      "execution_count": 1
    },
    {
      "cell_type": "code",
      "source": "# Convert minutes to hours\nminutes = 120\nhours = minutes / 60\n\n# Print the result\nprint(minutes, \"minutes is equal to\", hours, \"hours.\")\n",
      "metadata": {
        "trusted": true
      },
      "outputs": [
        {
          "name": "stdout",
          "text": "120 minutes is equal to 2.0 hours.\n",
          "output_type": "stream"
        }
      ],
      "execution_count": 2
    },
    {
      "cell_type": "markdown",
      "source": "### Objectives:\n\n1. Create a Markdown cell with the title of the notebook.\n2. Create a Markdown cell for an introduction.\n3. Create a Markdown cell to list data science languages.\n4. Create a Markdown cell to list data science libraries.\n5. Create a Markdown cell with a table of Data Science tools.\n6. Create a Markdown cell introducing arithmetic expression examples.\n7. Create a code cell to multiply and add numbers.\n8. Create a code cell to convert minutes to hours.\n9. Insert a Markdown cell to list Objectives.\n10. Create a Markdown cell to indicate the Author’s name.\n11. Share your notebook through GitHub.\n12. Take a screenshot of the first page of the notebook.\n",
      "metadata": {}
    },
    {
      "cell_type": "markdown",
      "source": "### Author:\n\nBeşir Efe Saraçoğlu\n",
      "metadata": {}
    },
    {
      "cell_type": "code",
      "source": "",
      "metadata": {
        "trusted": true
      },
      "outputs": [],
      "execution_count": null
    }
  ]
}